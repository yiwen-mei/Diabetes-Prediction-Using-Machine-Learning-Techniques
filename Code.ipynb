{
 "cells": [
  {
   "cell_type": "markdown",
   "id": "d4bd3604",
   "metadata": {},
   "source": [
    "# Yiwen Mei"
   ]
  },
  {
   "cell_type": "code",
   "execution_count": 1,
   "id": "1ed35401",
   "metadata": {},
   "outputs": [],
   "source": [
    "import pandas as pd\n",
    "import numpy as np\n",
    "import matplotlib.pyplot as plt\n",
    "from sklearn.model_selection import train_test_split\n",
    "from sklearn.tree import DecisionTreeClassifier\n",
    "from sklearn.ensemble import RandomForestClassifier\n",
    "from sklearn.ensemble import GradientBoostingClassifier\n",
    "from sklearn.model_selection import StratifiedKFold\n",
    "from sklearn.model_selection import GridSearchCV\n",
    "from sklearn.model_selection import cross_val_score\n",
    "from sklearn.preprocessing import StandardScaler\n",
    "from sklearn.linear_model import LogisticRegression\n",
    "from sklearn.pipeline import Pipeline\n",
    "from tensorflow import keras\n",
    "from tensorflow.keras import layers"
   ]
  },
  {
   "cell_type": "code",
   "execution_count": 2,
   "id": "3e5cafa3",
   "metadata": {},
   "outputs": [],
   "source": [
    "# import warnings filter\n",
    "from warnings import simplefilter\n",
    "# ignore all future warnings\n",
    "simplefilter(action='ignore', category=FutureWarning)"
   ]
  },
  {
   "cell_type": "code",
   "execution_count": 3,
   "id": "f38fe5a4",
   "metadata": {},
   "outputs": [
    {
     "data": {
      "text/html": [
       "<div>\n",
       "<style scoped>\n",
       "    .dataframe tbody tr th:only-of-type {\n",
       "        vertical-align: middle;\n",
       "    }\n",
       "\n",
       "    .dataframe tbody tr th {\n",
       "        vertical-align: top;\n",
       "    }\n",
       "\n",
       "    .dataframe thead th {\n",
       "        text-align: right;\n",
       "    }\n",
       "</style>\n",
       "<table border=\"1\" class=\"dataframe\">\n",
       "  <thead>\n",
       "    <tr style=\"text-align: right;\">\n",
       "      <th></th>\n",
       "      <th>Pregnancies</th>\n",
       "      <th>Glucose</th>\n",
       "      <th>BloodPressure</th>\n",
       "      <th>SkinThickness</th>\n",
       "      <th>Insulin</th>\n",
       "      <th>BMI</th>\n",
       "      <th>PedigreeFunc</th>\n",
       "      <th>Age</th>\n",
       "      <th>Outcome</th>\n",
       "    </tr>\n",
       "  </thead>\n",
       "  <tbody>\n",
       "    <tr>\n",
       "      <th>0</th>\n",
       "      <td>6</td>\n",
       "      <td>148</td>\n",
       "      <td>72</td>\n",
       "      <td>35</td>\n",
       "      <td>0</td>\n",
       "      <td>33.6</td>\n",
       "      <td>0.627</td>\n",
       "      <td>50</td>\n",
       "      <td>1</td>\n",
       "    </tr>\n",
       "    <tr>\n",
       "      <th>1</th>\n",
       "      <td>1</td>\n",
       "      <td>85</td>\n",
       "      <td>66</td>\n",
       "      <td>29</td>\n",
       "      <td>0</td>\n",
       "      <td>26.6</td>\n",
       "      <td>0.351</td>\n",
       "      <td>31</td>\n",
       "      <td>0</td>\n",
       "    </tr>\n",
       "    <tr>\n",
       "      <th>2</th>\n",
       "      <td>8</td>\n",
       "      <td>183</td>\n",
       "      <td>64</td>\n",
       "      <td>0</td>\n",
       "      <td>0</td>\n",
       "      <td>23.3</td>\n",
       "      <td>0.672</td>\n",
       "      <td>32</td>\n",
       "      <td>1</td>\n",
       "    </tr>\n",
       "    <tr>\n",
       "      <th>3</th>\n",
       "      <td>1</td>\n",
       "      <td>89</td>\n",
       "      <td>66</td>\n",
       "      <td>23</td>\n",
       "      <td>94</td>\n",
       "      <td>28.1</td>\n",
       "      <td>0.167</td>\n",
       "      <td>21</td>\n",
       "      <td>0</td>\n",
       "    </tr>\n",
       "    <tr>\n",
       "      <th>4</th>\n",
       "      <td>0</td>\n",
       "      <td>137</td>\n",
       "      <td>40</td>\n",
       "      <td>35</td>\n",
       "      <td>168</td>\n",
       "      <td>43.1</td>\n",
       "      <td>2.288</td>\n",
       "      <td>33</td>\n",
       "      <td>1</td>\n",
       "    </tr>\n",
       "    <tr>\n",
       "      <th>...</th>\n",
       "      <td>...</td>\n",
       "      <td>...</td>\n",
       "      <td>...</td>\n",
       "      <td>...</td>\n",
       "      <td>...</td>\n",
       "      <td>...</td>\n",
       "      <td>...</td>\n",
       "      <td>...</td>\n",
       "      <td>...</td>\n",
       "    </tr>\n",
       "    <tr>\n",
       "      <th>763</th>\n",
       "      <td>10</td>\n",
       "      <td>101</td>\n",
       "      <td>76</td>\n",
       "      <td>48</td>\n",
       "      <td>180</td>\n",
       "      <td>32.9</td>\n",
       "      <td>0.171</td>\n",
       "      <td>63</td>\n",
       "      <td>0</td>\n",
       "    </tr>\n",
       "    <tr>\n",
       "      <th>764</th>\n",
       "      <td>2</td>\n",
       "      <td>122</td>\n",
       "      <td>70</td>\n",
       "      <td>27</td>\n",
       "      <td>0</td>\n",
       "      <td>36.8</td>\n",
       "      <td>0.340</td>\n",
       "      <td>27</td>\n",
       "      <td>0</td>\n",
       "    </tr>\n",
       "    <tr>\n",
       "      <th>765</th>\n",
       "      <td>5</td>\n",
       "      <td>121</td>\n",
       "      <td>72</td>\n",
       "      <td>23</td>\n",
       "      <td>112</td>\n",
       "      <td>26.2</td>\n",
       "      <td>0.245</td>\n",
       "      <td>30</td>\n",
       "      <td>0</td>\n",
       "    </tr>\n",
       "    <tr>\n",
       "      <th>766</th>\n",
       "      <td>1</td>\n",
       "      <td>126</td>\n",
       "      <td>60</td>\n",
       "      <td>0</td>\n",
       "      <td>0</td>\n",
       "      <td>30.1</td>\n",
       "      <td>0.349</td>\n",
       "      <td>47</td>\n",
       "      <td>1</td>\n",
       "    </tr>\n",
       "    <tr>\n",
       "      <th>767</th>\n",
       "      <td>1</td>\n",
       "      <td>93</td>\n",
       "      <td>70</td>\n",
       "      <td>31</td>\n",
       "      <td>0</td>\n",
       "      <td>30.4</td>\n",
       "      <td>0.315</td>\n",
       "      <td>23</td>\n",
       "      <td>0</td>\n",
       "    </tr>\n",
       "  </tbody>\n",
       "</table>\n",
       "<p>768 rows × 9 columns</p>\n",
       "</div>"
      ],
      "text/plain": [
       "     Pregnancies  Glucose  BloodPressure  SkinThickness  Insulin   BMI  \\\n",
       "0              6      148             72             35        0  33.6   \n",
       "1              1       85             66             29        0  26.6   \n",
       "2              8      183             64              0        0  23.3   \n",
       "3              1       89             66             23       94  28.1   \n",
       "4              0      137             40             35      168  43.1   \n",
       "..           ...      ...            ...            ...      ...   ...   \n",
       "763           10      101             76             48      180  32.9   \n",
       "764            2      122             70             27        0  36.8   \n",
       "765            5      121             72             23      112  26.2   \n",
       "766            1      126             60              0        0  30.1   \n",
       "767            1       93             70             31        0  30.4   \n",
       "\n",
       "     PedigreeFunc  Age  Outcome  \n",
       "0           0.627   50        1  \n",
       "1           0.351   31        0  \n",
       "2           0.672   32        1  \n",
       "3           0.167   21        0  \n",
       "4           2.288   33        1  \n",
       "..            ...  ...      ...  \n",
       "763         0.171   63        0  \n",
       "764         0.340   27        0  \n",
       "765         0.245   30        0  \n",
       "766         0.349   47        1  \n",
       "767         0.315   23        0  \n",
       "\n",
       "[768 rows x 9 columns]"
      ]
     },
     "execution_count": 3,
     "metadata": {},
     "output_type": "execute_result"
    }
   ],
   "source": [
    "df = pd.read_csv('diabetes.csv')\n",
    "df"
   ]
  },
  {
   "cell_type": "code",
   "execution_count": 4,
   "id": "7457f3cb",
   "metadata": {},
   "outputs": [
    {
     "name": "stdout",
     "output_type": "stream",
     "text": [
      "Glucose: 5\n",
      "BloodPressure: 35\n",
      "SkinThickness: 227\n",
      "Insulin: 374\n",
      "BMI: 11\n"
     ]
    }
   ],
   "source": [
    "# Number of rows with 0 values\n",
    "\n",
    "list1 = ['Glucose','BloodPressure','SkinThickness','Insulin','BMI']\n",
    "\n",
    "for k in df[list1].columns:\n",
    "    missing_rows = df.loc[df[k]==0].shape[0]\n",
    "    print(k + \": \" + str(missing_rows))"
   ]
  },
  {
   "cell_type": "code",
   "execution_count": 5,
   "id": "91f28b5b",
   "metadata": {},
   "outputs": [],
   "source": [
    "df0 = df[df['Outcome'] == 0].copy()\n",
    "df1 = df[df['Outcome'] == 1].copy()"
   ]
  },
  {
   "cell_type": "code",
   "execution_count": 6,
   "id": "e3a13790",
   "metadata": {},
   "outputs": [],
   "source": [
    "for i in list1:\n",
    " # find averages excluding zeros\n",
    "    mean_df1 = df1[df1[i] != 0][i].mean()\n",
    "    mean_df0 = df0[df0[i] != 0][i].mean()\n",
    " # replace zeros with the averages\n",
    "    df1.loc[df1[i] == 0, i] = mean_df1\n",
    "    df0.loc[df0[i] == 0, i] = mean_df0"
   ]
  },
  {
   "cell_type": "code",
   "execution_count": 7,
   "id": "4c770d54",
   "metadata": {},
   "outputs": [
    {
     "data": {
      "text/html": [
       "<div>\n",
       "<style scoped>\n",
       "    .dataframe tbody tr th:only-of-type {\n",
       "        vertical-align: middle;\n",
       "    }\n",
       "\n",
       "    .dataframe tbody tr th {\n",
       "        vertical-align: top;\n",
       "    }\n",
       "\n",
       "    .dataframe thead th {\n",
       "        text-align: right;\n",
       "    }\n",
       "</style>\n",
       "<table border=\"1\" class=\"dataframe\">\n",
       "  <thead>\n",
       "    <tr style=\"text-align: right;\">\n",
       "      <th></th>\n",
       "      <th>Pregnancies</th>\n",
       "      <th>Glucose</th>\n",
       "      <th>BloodPressure</th>\n",
       "      <th>SkinThickness</th>\n",
       "      <th>Insulin</th>\n",
       "      <th>BMI</th>\n",
       "      <th>PedigreeFunc</th>\n",
       "      <th>Age</th>\n",
       "      <th>Outcome</th>\n",
       "    </tr>\n",
       "  </thead>\n",
       "  <tbody>\n",
       "    <tr>\n",
       "      <th>0</th>\n",
       "      <td>6</td>\n",
       "      <td>148.0</td>\n",
       "      <td>72.0</td>\n",
       "      <td>35.0</td>\n",
       "      <td>206.846154</td>\n",
       "      <td>33.6</td>\n",
       "      <td>0.627</td>\n",
       "      <td>50</td>\n",
       "      <td>1</td>\n",
       "    </tr>\n",
       "    <tr>\n",
       "      <th>1</th>\n",
       "      <td>1</td>\n",
       "      <td>85.0</td>\n",
       "      <td>66.0</td>\n",
       "      <td>29.0</td>\n",
       "      <td>130.287879</td>\n",
       "      <td>26.6</td>\n",
       "      <td>0.351</td>\n",
       "      <td>31</td>\n",
       "      <td>0</td>\n",
       "    </tr>\n",
       "    <tr>\n",
       "      <th>2</th>\n",
       "      <td>8</td>\n",
       "      <td>183.0</td>\n",
       "      <td>64.0</td>\n",
       "      <td>33.0</td>\n",
       "      <td>206.846154</td>\n",
       "      <td>23.3</td>\n",
       "      <td>0.672</td>\n",
       "      <td>32</td>\n",
       "      <td>1</td>\n",
       "    </tr>\n",
       "    <tr>\n",
       "      <th>3</th>\n",
       "      <td>1</td>\n",
       "      <td>89.0</td>\n",
       "      <td>66.0</td>\n",
       "      <td>23.0</td>\n",
       "      <td>94.000000</td>\n",
       "      <td>28.1</td>\n",
       "      <td>0.167</td>\n",
       "      <td>21</td>\n",
       "      <td>0</td>\n",
       "    </tr>\n",
       "    <tr>\n",
       "      <th>4</th>\n",
       "      <td>0</td>\n",
       "      <td>137.0</td>\n",
       "      <td>40.0</td>\n",
       "      <td>35.0</td>\n",
       "      <td>168.000000</td>\n",
       "      <td>43.1</td>\n",
       "      <td>2.288</td>\n",
       "      <td>33</td>\n",
       "      <td>1</td>\n",
       "    </tr>\n",
       "    <tr>\n",
       "      <th>...</th>\n",
       "      <td>...</td>\n",
       "      <td>...</td>\n",
       "      <td>...</td>\n",
       "      <td>...</td>\n",
       "      <td>...</td>\n",
       "      <td>...</td>\n",
       "      <td>...</td>\n",
       "      <td>...</td>\n",
       "      <td>...</td>\n",
       "    </tr>\n",
       "    <tr>\n",
       "      <th>763</th>\n",
       "      <td>10</td>\n",
       "      <td>101.0</td>\n",
       "      <td>76.0</td>\n",
       "      <td>48.0</td>\n",
       "      <td>180.000000</td>\n",
       "      <td>32.9</td>\n",
       "      <td>0.171</td>\n",
       "      <td>63</td>\n",
       "      <td>0</td>\n",
       "    </tr>\n",
       "    <tr>\n",
       "      <th>764</th>\n",
       "      <td>2</td>\n",
       "      <td>122.0</td>\n",
       "      <td>70.0</td>\n",
       "      <td>27.0</td>\n",
       "      <td>130.287879</td>\n",
       "      <td>36.8</td>\n",
       "      <td>0.340</td>\n",
       "      <td>27</td>\n",
       "      <td>0</td>\n",
       "    </tr>\n",
       "    <tr>\n",
       "      <th>765</th>\n",
       "      <td>5</td>\n",
       "      <td>121.0</td>\n",
       "      <td>72.0</td>\n",
       "      <td>23.0</td>\n",
       "      <td>112.000000</td>\n",
       "      <td>26.2</td>\n",
       "      <td>0.245</td>\n",
       "      <td>30</td>\n",
       "      <td>0</td>\n",
       "    </tr>\n",
       "    <tr>\n",
       "      <th>766</th>\n",
       "      <td>1</td>\n",
       "      <td>126.0</td>\n",
       "      <td>60.0</td>\n",
       "      <td>33.0</td>\n",
       "      <td>206.846154</td>\n",
       "      <td>30.1</td>\n",
       "      <td>0.349</td>\n",
       "      <td>47</td>\n",
       "      <td>1</td>\n",
       "    </tr>\n",
       "    <tr>\n",
       "      <th>767</th>\n",
       "      <td>1</td>\n",
       "      <td>93.0</td>\n",
       "      <td>70.0</td>\n",
       "      <td>31.0</td>\n",
       "      <td>130.287879</td>\n",
       "      <td>30.4</td>\n",
       "      <td>0.315</td>\n",
       "      <td>23</td>\n",
       "      <td>0</td>\n",
       "    </tr>\n",
       "  </tbody>\n",
       "</table>\n",
       "<p>768 rows × 9 columns</p>\n",
       "</div>"
      ],
      "text/plain": [
       "     Pregnancies  Glucose  BloodPressure  SkinThickness     Insulin   BMI  \\\n",
       "0              6    148.0           72.0           35.0  206.846154  33.6   \n",
       "1              1     85.0           66.0           29.0  130.287879  26.6   \n",
       "2              8    183.0           64.0           33.0  206.846154  23.3   \n",
       "3              1     89.0           66.0           23.0   94.000000  28.1   \n",
       "4              0    137.0           40.0           35.0  168.000000  43.1   \n",
       "..           ...      ...            ...            ...         ...   ...   \n",
       "763           10    101.0           76.0           48.0  180.000000  32.9   \n",
       "764            2    122.0           70.0           27.0  130.287879  36.8   \n",
       "765            5    121.0           72.0           23.0  112.000000  26.2   \n",
       "766            1    126.0           60.0           33.0  206.846154  30.1   \n",
       "767            1     93.0           70.0           31.0  130.287879  30.4   \n",
       "\n",
       "     PedigreeFunc  Age  Outcome  \n",
       "0           0.627   50        1  \n",
       "1           0.351   31        0  \n",
       "2           0.672   32        1  \n",
       "3           0.167   21        0  \n",
       "4           2.288   33        1  \n",
       "..            ...  ...      ...  \n",
       "763         0.171   63        0  \n",
       "764         0.340   27        0  \n",
       "765         0.245   30        0  \n",
       "766         0.349   47        1  \n",
       "767         0.315   23        0  \n",
       "\n",
       "[768 rows x 9 columns]"
      ]
     },
     "execution_count": 7,
     "metadata": {},
     "output_type": "execute_result"
    }
   ],
   "source": [
    "df = pd.concat([df0, df1])\n",
    "df.sort_index(inplace = True)\n",
    "df"
   ]
  },
  {
   "cell_type": "code",
   "execution_count": 8,
   "id": "dc0ccdc5",
   "metadata": {},
   "outputs": [],
   "source": [
    "X = df.drop('Outcome', axis=1)\n",
    "y = df['Outcome']\n",
    "X_train, X_test, y_train, y_test = train_test_split(X, y, \\\n",
    "                                                stratify = y,\\\n",
    "                                                train_size=0.66,\\\n",
    "                                                test_size=0.33, \\\n",
    "                                                random_state=1)"
   ]
  },
  {
   "cell_type": "markdown",
   "id": "cd43c762",
   "metadata": {},
   "source": [
    "### 1. Random Forest classification model with 500 trees, max_features = 5, n_estimators = 500,\n",
    "### and max_depth = 4"
   ]
  },
  {
   "cell_type": "code",
   "execution_count": 9,
   "id": "e388aff5",
   "metadata": {},
   "outputs": [
    {
     "data": {
      "text/plain": [
       "0.8661417322834646"
      ]
     },
     "execution_count": 9,
     "metadata": {},
     "output_type": "execute_result"
    }
   ],
   "source": [
    "forest = RandomForestClassifier(max_features = 5,\\\n",
    "                                n_estimators = 500,\\\n",
    "                                max_depth = 4,random_state = 1)\n",
    "forest.fit(X_train,y_train)\n",
    "forest.score(X_test,y_test)"
   ]
  },
  {
   "cell_type": "markdown",
   "id": "2aa946d7",
   "metadata": {},
   "source": [
    "### 2. GridSearchCV on max_features"
   ]
  },
  {
   "cell_type": "code",
   "execution_count": 10,
   "id": "e7292b17",
   "metadata": {},
   "outputs": [],
   "source": [
    "model3 = RandomForestClassifier(max_depth=4,n_estimators = 500,\\\n",
    "                                random_state=1)"
   ]
  },
  {
   "cell_type": "code",
   "execution_count": 11,
   "id": "ab93d9c2",
   "metadata": {},
   "outputs": [],
   "source": [
    "kfold = StratifiedKFold(n_splits=5,shuffle = True,random_state = 1)"
   ]
  },
  {
   "cell_type": "code",
   "execution_count": 12,
   "id": "875220cc",
   "metadata": {},
   "outputs": [],
   "source": [
    "features = range(1,9)\n",
    "params = dict(max_features = features)"
   ]
  },
  {
   "cell_type": "code",
   "execution_count": 13,
   "id": "dba0bf86",
   "metadata": {},
   "outputs": [],
   "source": [
    "grid1 = GridSearchCV(model3,param_grid = params,cv = kfold)\n",
    "grid1.fit(X_train,y_train);"
   ]
  },
  {
   "cell_type": "code",
   "execution_count": 14,
   "id": "49e97bc9",
   "metadata": {},
   "outputs": [
    {
     "data": {
      "text/plain": [
       "0.8793826441467676"
      ]
     },
     "execution_count": 14,
     "metadata": {},
     "output_type": "execute_result"
    }
   ],
   "source": [
    "# Best Validation Accuracy rate\n",
    "grid1.best_score_"
   ]
  },
  {
   "cell_type": "code",
   "execution_count": 15,
   "id": "2e9a4fb6",
   "metadata": {},
   "outputs": [
    {
     "data": {
      "text/plain": [
       "{'max_features': 4}"
      ]
     },
     "execution_count": 15,
     "metadata": {},
     "output_type": "execute_result"
    }
   ],
   "source": [
    "grid1.best_params_"
   ]
  },
  {
   "cell_type": "code",
   "execution_count": 16,
   "id": "c7991b07",
   "metadata": {},
   "outputs": [
    {
     "data": {
      "text/plain": [
       "0.8700787401574803"
      ]
     },
     "execution_count": 16,
     "metadata": {},
     "output_type": "execute_result"
    }
   ],
   "source": [
    "grid1.score(X_test,y_test)"
   ]
  },
  {
   "cell_type": "markdown",
   "id": "94a216e5",
   "metadata": {},
   "source": [
    "### 3. What are the best predictors found by Random Forest?"
   ]
  },
  {
   "cell_type": "code",
   "execution_count": 17,
   "id": "2714ca02",
   "metadata": {},
   "outputs": [
    {
     "data": {
      "image/png": "[encoded data removed]",
      "text/plain": [
       "<Figure size 640x480 with 1 Axes>"
      ]
     },
     "metadata": {},
     "output_type": "display_data"
    }
   ],
   "source": [
    "Importance = pd.DataFrame({'Importance':\\\n",
    "                grid1.best_estimator_.feature_importances_*100},\n",
    "                        index = X.columns)\n",
    "df8 = Importance.sort_values(by = 'Importance',axis = 0,\n",
    "                             ascending = True)\n",
    "df8.plot(kind = 'barh',color = 'r',legend = False)\n",
    "plt.xlabel('Importance')\n",
    "plt.ylabel('Feature')\n",
    "plt.grid()"
   ]
  },
  {
   "cell_type": "code",
   "execution_count": 18,
   "id": "5ff220e7",
   "metadata": {},
   "outputs": [
    {
     "data": {
      "text/html": [
       "<div>\n",
       "<style scoped>\n",
       "    .dataframe tbody tr th:only-of-type {\n",
       "        vertical-align: middle;\n",
       "    }\n",
       "\n",
       "    .dataframe tbody tr th {\n",
       "        vertical-align: top;\n",
       "    }\n",
       "\n",
       "    .dataframe thead th {\n",
       "        text-align: right;\n",
       "    }\n",
       "</style>\n",
       "<table border=\"1\" class=\"dataframe\">\n",
       "  <thead>\n",
       "    <tr style=\"text-align: right;\">\n",
       "      <th></th>\n",
       "      <th>Importance</th>\n",
       "    </tr>\n",
       "  </thead>\n",
       "  <tbody>\n",
       "    <tr>\n",
       "      <th>BloodPressure</th>\n",
       "      <td>1.551048</td>\n",
       "    </tr>\n",
       "    <tr>\n",
       "      <th>Pregnancies</th>\n",
       "      <td>2.618653</td>\n",
       "    </tr>\n",
       "    <tr>\n",
       "      <th>PedigreeFunc</th>\n",
       "      <td>2.763701</td>\n",
       "    </tr>\n",
       "    <tr>\n",
       "      <th>BMI</th>\n",
       "      <td>3.021733</td>\n",
       "    </tr>\n",
       "    <tr>\n",
       "      <th>Age</th>\n",
       "      <td>8.407199</td>\n",
       "    </tr>\n",
       "    <tr>\n",
       "      <th>SkinThickness</th>\n",
       "      <td>13.205678</td>\n",
       "    </tr>\n",
       "    <tr>\n",
       "      <th>Glucose</th>\n",
       "      <td>16.052309</td>\n",
       "    </tr>\n",
       "    <tr>\n",
       "      <th>Insulin</th>\n",
       "      <td>52.379679</td>\n",
       "    </tr>\n",
       "  </tbody>\n",
       "</table>\n",
       "</div>"
      ],
      "text/plain": [
       "               Importance\n",
       "BloodPressure    1.551048\n",
       "Pregnancies      2.618653\n",
       "PedigreeFunc     2.763701\n",
       "BMI              3.021733\n",
       "Age              8.407199\n",
       "SkinThickness   13.205678\n",
       "Glucose         16.052309\n",
       "Insulin         52.379679"
      ]
     },
     "execution_count": 18,
     "metadata": {},
     "output_type": "execute_result"
    }
   ],
   "source": [
    "df8"
   ]
  },
  {
   "cell_type": "markdown",
   "id": "d657f749",
   "metadata": {},
   "source": [
    "### 4. Gradient boosting classification model with 500 trees, learning_rate = 0.1, \n",
    "### n_estimators = 500, and max_depth = 4"
   ]
  },
  {
   "cell_type": "code",
   "execution_count": 19,
   "id": "9f8286d8",
   "metadata": {},
   "outputs": [
    {
     "data": {
      "text/plain": [
       "0.8937007874015748"
      ]
     },
     "execution_count": 19,
     "metadata": {},
     "output_type": "execute_result"
    }
   ],
   "source": [
    "model4 = GradientBoostingClassifier(n_estimators = 500,\n",
    "                                    learning_rate = 0.1,\n",
    "                                    max_depth = 4, \n",
    "                                    random_state =1)\n",
    "model4.fit(X_train,y_train)\n",
    "model4.score(X_test,y_test)"
   ]
  },
  {
   "cell_type": "markdown",
   "id": "5d271e84",
   "metadata": {},
   "source": [
    "### 5. GridSearchCV and 5-fold cross validation on learning_rate"
   ]
  },
  {
   "cell_type": "code",
   "execution_count": 20,
   "id": "1c6f44ff",
   "metadata": {},
   "outputs": [],
   "source": [
    "model5 = GradientBoostingClassifier(n_estimators = 500,\n",
    "                                      max_depth = 4, \n",
    "                                    random_state =1)"
   ]
  },
  {
   "cell_type": "code",
   "execution_count": 21,
   "id": "6d27ae49",
   "metadata": {},
   "outputs": [
    {
     "data": {
      "text/plain": [
       "array([0.01      , 0.06210526, 0.11421053, 0.16631579, 0.21842105,\n",
       "       0.27052632, 0.32263158, 0.37473684, 0.42684211, 0.47894737,\n",
       "       0.53105263, 0.58315789, 0.63526316, 0.68736842, 0.73947368,\n",
       "       0.79157895, 0.84368421, 0.89578947, 0.94789474, 1.        ])"
      ]
     },
     "execution_count": 21,
     "metadata": {},
     "output_type": "execute_result"
    }
   ],
   "source": [
    "lrates = np.linspace(0.01,1.0,20)\n",
    "lrates"
   ]
  },
  {
   "cell_type": "code",
   "execution_count": 22,
   "id": "ab9e028d",
   "metadata": {},
   "outputs": [],
   "source": [
    "kfold = StratifiedKFold(n_splits=5,shuffle = True,random_state = 1)"
   ]
  },
  {
   "cell_type": "code",
   "execution_count": 23,
   "id": "8477b8dd",
   "metadata": {},
   "outputs": [],
   "source": [
    "params = dict(learning_rate = lrates)"
   ]
  },
  {
   "cell_type": "code",
   "execution_count": 24,
   "id": "dcf7ffbe",
   "metadata": {},
   "outputs": [],
   "source": [
    "grid2 = GridSearchCV(model5,param_grid = params,cv = kfold)\n",
    "grid2.fit(X_train,y_train);"
   ]
  },
  {
   "cell_type": "code",
   "execution_count": 25,
   "id": "97060e59",
   "metadata": {},
   "outputs": [
    {
     "data": {
      "text/plain": [
       "0.8854008930304795"
      ]
     },
     "execution_count": 25,
     "metadata": {},
     "output_type": "execute_result"
    }
   ],
   "source": [
    "# Best Validation Accuracy rate\n",
    "grid2.best_score_"
   ]
  },
  {
   "cell_type": "code",
   "execution_count": 26,
   "id": "af8d7e35",
   "metadata": {},
   "outputs": [
    {
     "data": {
      "text/plain": [
       "{'learning_rate': 0.5831578947368421}"
      ]
     },
     "execution_count": 26,
     "metadata": {},
     "output_type": "execute_result"
    }
   ],
   "source": [
    "grid2.best_params_"
   ]
  },
  {
   "cell_type": "code",
   "execution_count": 27,
   "id": "3db5fcae",
   "metadata": {},
   "outputs": [
    {
     "data": {
      "text/plain": [
       "0.889763779527559"
      ]
     },
     "execution_count": 27,
     "metadata": {},
     "output_type": "execute_result"
    }
   ],
   "source": [
    "grid2.score(X_test,y_test)"
   ]
  },
  {
   "cell_type": "markdown",
   "id": "1759b43a",
   "metadata": {},
   "source": [
    "### 6. What are the best predictors found by Gradient Boosting?"
   ]
  },
  {
   "cell_type": "code",
   "execution_count": 28,
   "id": "a6cfb57f",
   "metadata": {},
   "outputs": [
    {
     "data": {
      "image/png": "[encoded data removed]",
      "text/plain": [
       "<Figure size 640x480 with 1 Axes>"
      ]
     },
     "metadata": {},
     "output_type": "display_data"
    }
   ],
   "source": [
    "Importance2 = grid2.best_estimator_.feature_importances_*100\n",
    "Importance2 = pd.DataFrame({'Importance':Importance2},\\\n",
    "                           index = X.columns)\n",
    "df9 = Importance2.sort_values(by = 'Importance',axis = 0,\\\n",
    "                              ascending = True)\n",
    "df9.plot(kind = 'barh',color = 'r',legend = False)\n",
    "plt.xlabel('Variable Importance')\n",
    "plt.gca().legend_ = None\n",
    "plt.grid()"
   ]
  },
  {
   "cell_type": "code",
   "execution_count": 29,
   "id": "56ba4839",
   "metadata": {},
   "outputs": [
    {
     "data": {
      "text/html": [
       "<div>\n",
       "<style scoped>\n",
       "    .dataframe tbody tr th:only-of-type {\n",
       "        vertical-align: middle;\n",
       "    }\n",
       "\n",
       "    .dataframe tbody tr th {\n",
       "        vertical-align: top;\n",
       "    }\n",
       "\n",
       "    .dataframe thead th {\n",
       "        text-align: right;\n",
       "    }\n",
       "</style>\n",
       "<table border=\"1\" class=\"dataframe\">\n",
       "  <thead>\n",
       "    <tr style=\"text-align: right;\">\n",
       "      <th></th>\n",
       "      <th>Importance</th>\n",
       "    </tr>\n",
       "  </thead>\n",
       "  <tbody>\n",
       "    <tr>\n",
       "      <th>Pregnancies</th>\n",
       "      <td>0.785995</td>\n",
       "    </tr>\n",
       "    <tr>\n",
       "      <th>BloodPressure</th>\n",
       "      <td>2.013042</td>\n",
       "    </tr>\n",
       "    <tr>\n",
       "      <th>PedigreeFunc</th>\n",
       "      <td>3.745284</td>\n",
       "    </tr>\n",
       "    <tr>\n",
       "      <th>BMI</th>\n",
       "      <td>4.931715</td>\n",
       "    </tr>\n",
       "    <tr>\n",
       "      <th>SkinThickness</th>\n",
       "      <td>5.836521</td>\n",
       "    </tr>\n",
       "    <tr>\n",
       "      <th>Age</th>\n",
       "      <td>11.114347</td>\n",
       "    </tr>\n",
       "    <tr>\n",
       "      <th>Glucose</th>\n",
       "      <td>11.924332</td>\n",
       "    </tr>\n",
       "    <tr>\n",
       "      <th>Insulin</th>\n",
       "      <td>59.648764</td>\n",
       "    </tr>\n",
       "  </tbody>\n",
       "</table>\n",
       "</div>"
      ],
      "text/plain": [
       "               Importance\n",
       "Pregnancies      0.785995\n",
       "BloodPressure    2.013042\n",
       "PedigreeFunc     3.745284\n",
       "BMI              4.931715\n",
       "SkinThickness    5.836521\n",
       "Age             11.114347\n",
       "Glucose         11.924332\n",
       "Insulin         59.648764"
      ]
     },
     "execution_count": 29,
     "metadata": {},
     "output_type": "execute_result"
    }
   ],
   "source": [
    "df9"
   ]
  },
  {
   "cell_type": "markdown",
   "id": "e85ad38c",
   "metadata": {},
   "source": [
    "### 7. Use logistic regression with no regularization to predict Outcome. "
   ]
  },
  {
   "cell_type": "code",
   "execution_count": 30,
   "id": "15e603eb",
   "metadata": {},
   "outputs": [
    {
     "data": {
      "text/plain": [
       "0.7876920465155759"
      ]
     },
     "execution_count": 30,
     "metadata": {},
     "output_type": "execute_result"
    }
   ],
   "source": [
    "scaler = StandardScaler()\n",
    "model1 = LogisticRegression(solver = 'lbfgs',C = 1e20,max_iter=10000)\n",
    "pipe1 = Pipeline([('transformer1', scaler), ('estimator1', model1)])\n",
    "scores = cross_val_score(pipe1,X,y,cv=kfold)\n",
    "scores\n",
    "scores.mean()"
   ]
  },
  {
   "cell_type": "markdown",
   "id": "5d4523c7",
   "metadata": {},
   "source": [
    "### 8. Use logistic regression with regularization to predict Outcome. Use GridSearchCV and 5-fold cross\n",
    "### validation to find the best regularization parameter. "
   ]
  },
  {
   "cell_type": "code",
   "execution_count": 31,
   "id": "87415d1d",
   "metadata": {},
   "outputs": [
    {
     "data": {
      "text/plain": [
       "array([0.01 , 0.011, 0.012, ..., 1.497, 1.498, 1.499])"
      ]
     },
     "execution_count": 31,
     "metadata": {},
     "output_type": "execute_result"
    }
   ],
   "source": [
    "Cvalues = np.arange(0.01,1.50,0.001)\n",
    "Cvalues"
   ]
  },
  {
   "cell_type": "code",
   "execution_count": 32,
   "id": "25158ae1",
   "metadata": {},
   "outputs": [],
   "source": [
    "kfold = StratifiedKFold(n_splits=5,shuffle = True,random_state = 1)"
   ]
  },
  {
   "cell_type": "code",
   "execution_count": 33,
   "id": "e28f760f",
   "metadata": {},
   "outputs": [],
   "source": [
    "scaler = StandardScaler()\n",
    "model = LogisticRegression(solver = 'lbfgs', max_iter=10000)\n",
    "pipe1 = Pipeline([('scaler', scaler),('model', model)])"
   ]
  },
  {
   "cell_type": "code",
   "execution_count": 34,
   "id": "e1fe9c15",
   "metadata": {},
   "outputs": [],
   "source": [
    "regularization_params = {'C': Cvalues}"
   ]
  },
  {
   "cell_type": "code",
   "execution_count": 35,
   "id": "b93333c1",
   "metadata": {},
   "outputs": [],
   "source": [
    "grid3 = GridSearchCV(model,param_grid = regularization_params,\\\n",
    "                     cv = kfold)\n",
    "grid3.fit(X_train,y_train);"
   ]
  },
  {
   "cell_type": "code",
   "execution_count": 36,
   "id": "f38947a8",
   "metadata": {},
   "outputs": [
    {
     "data": {
      "text/plain": [
       "0.7963696369636963"
      ]
     },
     "execution_count": 36,
     "metadata": {},
     "output_type": "execute_result"
    }
   ],
   "source": [
    "# Best Validation Accuracy rate\n",
    "grid3.best_score_"
   ]
  },
  {
   "cell_type": "code",
   "execution_count": 37,
   "id": "e7405f62",
   "metadata": {},
   "outputs": [
    {
     "data": {
      "text/plain": [
       "{'C': 1.185999999999999}"
      ]
     },
     "execution_count": 37,
     "metadata": {},
     "output_type": "execute_result"
    }
   ],
   "source": [
    "grid3.best_params_"
   ]
  },
  {
   "cell_type": "code",
   "execution_count": 38,
   "id": "756050cf",
   "metadata": {},
   "outputs": [
    {
     "data": {
      "text/plain": [
       "0.7874015748031497"
      ]
     },
     "execution_count": 38,
     "metadata": {},
     "output_type": "execute_result"
    }
   ],
   "source": [
    "grid3.score(X_test,y_test)"
   ]
  },
  {
   "cell_type": "markdown",
   "id": "a2303471",
   "metadata": {},
   "source": [
    "### 9. Neural Network"
   ]
  },
  {
   "cell_type": "code",
   "execution_count": 39,
   "id": "7228df8d",
   "metadata": {},
   "outputs": [],
   "source": [
    "X = df.drop('Outcome', axis=1)\n",
    "y = df['Outcome']\n",
    "X_train, X_test, y_train, y_test = train_test_split(X, y, \\\n",
    "                                                stratify = y,\\\n",
    "                                                train_size = 0.76, \\\n",
    "                                                random_state=1)"
   ]
  },
  {
   "cell_type": "code",
   "execution_count": 40,
   "id": "9f1607d1",
   "metadata": {},
   "outputs": [],
   "source": [
    "scaler = StandardScaler()\n",
    "X_train_scaled = scaler.fit_transform(X_train)\n",
    "X_test_scaled = scaler.transform(X_test)"
   ]
  },
  {
   "cell_type": "markdown",
   "id": "256abb7f",
   "metadata": {},
   "source": [
    "### 1) First model with a hidden layer with 24 nodes and the output layer with 1 node"
   ]
  },
  {
   "cell_type": "code",
   "execution_count": 41,
   "id": "b6ab2cfc",
   "metadata": {},
   "outputs": [],
   "source": [
    "network1 = keras.Sequential([ \n",
    "    layers.Dense(24,activation='relu'),\n",
    "    layers.Dense(1,activation='sigmoid')\n",
    "])\n",
    "\n",
    "network1.compile(optimizer='rmsprop', loss='binary_crossentropy',\n",
    "metrics=['accuracy'])\n",
    "\n",
    "n_epochs = 400\n",
    "history = network1.fit(X_train_scaled, y_train,\n",
    "                       epochs=n_epochs, batch_size = 48,\n",
    "                       validation_split = 0.20, verbose = 0)"
   ]
  },
  {
   "cell_type": "code",
   "execution_count": 42,
   "id": "ef735fc8",
   "metadata": {},
   "outputs": [
    {
     "data": {
      "text/plain": [
       "dict_keys(['loss', 'accuracy', 'val_loss', 'val_accuracy'])"
      ]
     },
     "execution_count": 42,
     "metadata": {},
     "output_type": "execute_result"
    }
   ],
   "source": [
    "history_dict = history.history\n",
    "history_dict.keys()"
   ]
  },
  {
   "cell_type": "code",
   "execution_count": 43,
   "id": "0eb77d9c",
   "metadata": {},
   "outputs": [
    {
     "data": {
      "text/html": [
       "<div>\n",
       "<style scoped>\n",
       "    .dataframe tbody tr th:only-of-type {\n",
       "        vertical-align: middle;\n",
       "    }\n",
       "\n",
       "    .dataframe tbody tr th {\n",
       "        vertical-align: top;\n",
       "    }\n",
       "\n",
       "    .dataframe thead th {\n",
       "        text-align: right;\n",
       "    }\n",
       "</style>\n",
       "<table border=\"1\" class=\"dataframe\">\n",
       "  <thead>\n",
       "    <tr style=\"text-align: right;\">\n",
       "      <th></th>\n",
       "      <th>loss</th>\n",
       "      <th>accuracy</th>\n",
       "      <th>val_loss</th>\n",
       "      <th>val_accuracy</th>\n",
       "    </tr>\n",
       "  </thead>\n",
       "  <tbody>\n",
       "    <tr>\n",
       "      <th>1</th>\n",
       "      <td>0.716593</td>\n",
       "      <td>0.435622</td>\n",
       "      <td>0.656349</td>\n",
       "      <td>0.589744</td>\n",
       "    </tr>\n",
       "    <tr>\n",
       "      <th>2</th>\n",
       "      <td>0.669415</td>\n",
       "      <td>0.585837</td>\n",
       "      <td>0.628835</td>\n",
       "      <td>0.700855</td>\n",
       "    </tr>\n",
       "    <tr>\n",
       "      <th>3</th>\n",
       "      <td>0.636643</td>\n",
       "      <td>0.673820</td>\n",
       "      <td>0.605707</td>\n",
       "      <td>0.743590</td>\n",
       "    </tr>\n",
       "    <tr>\n",
       "      <th>4</th>\n",
       "      <td>0.608257</td>\n",
       "      <td>0.727468</td>\n",
       "      <td>0.585534</td>\n",
       "      <td>0.760684</td>\n",
       "    </tr>\n",
       "    <tr>\n",
       "      <th>5</th>\n",
       "      <td>0.583134</td>\n",
       "      <td>0.774678</td>\n",
       "      <td>0.567302</td>\n",
       "      <td>0.769231</td>\n",
       "    </tr>\n",
       "    <tr>\n",
       "      <th>...</th>\n",
       "      <td>...</td>\n",
       "      <td>...</td>\n",
       "      <td>...</td>\n",
       "      <td>...</td>\n",
       "    </tr>\n",
       "    <tr>\n",
       "      <th>396</th>\n",
       "      <td>0.255146</td>\n",
       "      <td>0.907725</td>\n",
       "      <td>0.476584</td>\n",
       "      <td>0.760684</td>\n",
       "    </tr>\n",
       "    <tr>\n",
       "      <th>397</th>\n",
       "      <td>0.254364</td>\n",
       "      <td>0.907725</td>\n",
       "      <td>0.476853</td>\n",
       "      <td>0.760684</td>\n",
       "    </tr>\n",
       "    <tr>\n",
       "      <th>398</th>\n",
       "      <td>0.254510</td>\n",
       "      <td>0.907725</td>\n",
       "      <td>0.477094</td>\n",
       "      <td>0.760684</td>\n",
       "    </tr>\n",
       "    <tr>\n",
       "      <th>399</th>\n",
       "      <td>0.254133</td>\n",
       "      <td>0.905579</td>\n",
       "      <td>0.476449</td>\n",
       "      <td>0.760684</td>\n",
       "    </tr>\n",
       "    <tr>\n",
       "      <th>400</th>\n",
       "      <td>0.254147</td>\n",
       "      <td>0.905579</td>\n",
       "      <td>0.476532</td>\n",
       "      <td>0.760684</td>\n",
       "    </tr>\n",
       "  </tbody>\n",
       "</table>\n",
       "<p>400 rows × 4 columns</p>\n",
       "</div>"
      ],
      "text/plain": [
       "         loss  accuracy  val_loss  val_accuracy\n",
       "1    0.716593  0.435622  0.656349      0.589744\n",
       "2    0.669415  0.585837  0.628835      0.700855\n",
       "3    0.636643  0.673820  0.605707      0.743590\n",
       "4    0.608257  0.727468  0.585534      0.760684\n",
       "5    0.583134  0.774678  0.567302      0.769231\n",
       "..        ...       ...       ...           ...\n",
       "396  0.255146  0.907725  0.476584      0.760684\n",
       "397  0.254364  0.907725  0.476853      0.760684\n",
       "398  0.254510  0.907725  0.477094      0.760684\n",
       "399  0.254133  0.905579  0.476449      0.760684\n",
       "400  0.254147  0.905579  0.476532      0.760684\n",
       "\n",
       "[400 rows x 4 columns]"
      ]
     },
     "execution_count": 43,
     "metadata": {},
     "output_type": "execute_result"
    }
   ],
   "source": [
    "df9 = pd.DataFrame(history_dict)\n",
    "df9.index = range(1,401)\n",
    "df9"
   ]
  },
  {
   "cell_type": "code",
   "execution_count": 44,
   "id": "cfc7d13b",
   "metadata": {},
   "outputs": [
    {
     "data": {
      "text/html": [
       "<div>\n",
       "<style scoped>\n",
       "    .dataframe tbody tr th:only-of-type {\n",
       "        vertical-align: middle;\n",
       "    }\n",
       "\n",
       "    .dataframe tbody tr th {\n",
       "        vertical-align: top;\n",
       "    }\n",
       "\n",
       "    .dataframe thead th {\n",
       "        text-align: right;\n",
       "    }\n",
       "</style>\n",
       "<table border=\"1\" class=\"dataframe\">\n",
       "  <thead>\n",
       "    <tr style=\"text-align: right;\">\n",
       "      <th></th>\n",
       "      <th>loss</th>\n",
       "      <th>accuracy</th>\n",
       "      <th>val_loss</th>\n",
       "      <th>val_accuracy</th>\n",
       "    </tr>\n",
       "  </thead>\n",
       "  <tbody>\n",
       "    <tr>\n",
       "      <th>181</th>\n",
       "      <td>0.294938</td>\n",
       "      <td>0.869099</td>\n",
       "      <td>0.452091</td>\n",
       "      <td>0.777778</td>\n",
       "    </tr>\n",
       "  </tbody>\n",
       "</table>\n",
       "</div>"
      ],
      "text/plain": [
       "         loss  accuracy  val_loss  val_accuracy\n",
       "181  0.294938  0.869099  0.452091      0.777778"
      ]
     },
     "execution_count": 44,
     "metadata": {},
     "output_type": "execute_result"
    }
   ],
   "source": [
    "df9[df9.val_loss==df9.val_loss.min()]"
   ]
  },
  {
   "cell_type": "code",
   "execution_count": 45,
   "id": "9b132240",
   "metadata": {},
   "outputs": [],
   "source": [
    "loss_values = history_dict['loss']\n",
    "val_loss_values = history_dict['val_loss']\n",
    "epochs = range(1,401)"
   ]
  },
  {
   "cell_type": "code",
   "execution_count": 46,
   "id": "df1a4ce1",
   "metadata": {},
   "outputs": [
    {
     "data": {
      "image/png": "[encoded data removed]",
      "text/plain": [
       "<Figure size 1000x500 with 1 Axes>"
      ]
     },
     "metadata": {},
     "output_type": "display_data"
    }
   ],
   "source": [
    "plt.figure(figsize=(10,5))\n",
    "plt.plot(epochs,loss_values,'r',\n",
    "         label='Training Loss')\n",
    "plt.plot(epochs,val_loss_values,'b',\n",
    "         label='Validation Loss')\n",
    "#plt.xticks(epochs)\n",
    "plt.xlabel('Epochs')\n",
    "plt.ylabel('Loss')\n",
    "plt.legend()\n",
    "plt.grid()"
   ]
  },
  {
   "cell_type": "markdown",
   "id": "c3bf6a2c",
   "metadata": {},
   "source": [
    "### Retrain the model using best number of epochs"
   ]
  },
  {
   "cell_type": "code",
   "execution_count": 47,
   "id": "0a590a11",
   "metadata": {},
   "outputs": [],
   "source": [
    "network1 = keras.Sequential([ \n",
    "layers.Dense(24,activation='relu'),\n",
    "layers.Dense(1,activation='sigmoid')])\n",
    "\n",
    "network1.compile(optimizer='rmsprop', loss='binary_crossentropy',\n",
    "metrics=['accuracy'])\n",
    "\n",
    "n_epochs = 181\n",
    "history = network1.fit(X_train_scaled, y_train,\n",
    "                       epochs=n_epochs, batch_size = 48, verbose = 0)"
   ]
  },
  {
   "cell_type": "code",
   "execution_count": 48,
   "id": "4606b335",
   "metadata": {},
   "outputs": [
    {
     "name": "stdout",
     "output_type": "stream",
     "text": [
      "6/6 [==============================] - 0s 680us/step - loss: 0.3982 - accuracy: 0.8486\n"
     ]
    }
   ],
   "source": [
    "test_loss,test_acc = network1.evaluate(X_test_scaled,y_test)"
   ]
  },
  {
   "cell_type": "code",
   "execution_count": 49,
   "id": "63fe495d",
   "metadata": {},
   "outputs": [
    {
     "data": {
      "text/plain": [
       "0.3982083201408386"
      ]
     },
     "execution_count": 49,
     "metadata": {},
     "output_type": "execute_result"
    }
   ],
   "source": [
    "test_loss"
   ]
  },
  {
   "cell_type": "code",
   "execution_count": 50,
   "id": "67c49a36",
   "metadata": {},
   "outputs": [
    {
     "data": {
      "text/plain": [
       "0.8486486673355103"
      ]
     },
     "execution_count": 50,
     "metadata": {},
     "output_type": "execute_result"
    }
   ],
   "source": [
    "test_acc"
   ]
  },
  {
   "cell_type": "markdown",
   "id": "1d75f1da",
   "metadata": {},
   "source": [
    "### 2) Second model: 2 hidden layers with 32 and 16 nodes"
   ]
  },
  {
   "cell_type": "code",
   "execution_count": 51,
   "id": "ea877bff",
   "metadata": {},
   "outputs": [],
   "source": [
    "network1 = keras.Sequential([ \n",
    "    layers.Dense(32,activation='relu'),\n",
    "    layers.Dense(16,activation='relu'),\n",
    "    layers.Dense(1,activation='sigmoid')])\n",
    "\n",
    "network1.compile(optimizer='rmsprop', loss='binary_crossentropy',\n",
    "metrics=['accuracy'])\n",
    "\n",
    "n_epochs = 400\n",
    "history = network1.fit(X_train_scaled, y_train,\n",
    "                       epochs=n_epochs, batch_size = 48,\n",
    "                       validation_split = 0.20, verbose = 0)"
   ]
  },
  {
   "cell_type": "code",
   "execution_count": 52,
   "id": "c13ee66c",
   "metadata": {},
   "outputs": [
    {
     "data": {
      "text/plain": [
       "dict_keys(['loss', 'accuracy', 'val_loss', 'val_accuracy'])"
      ]
     },
     "execution_count": 52,
     "metadata": {},
     "output_type": "execute_result"
    }
   ],
   "source": [
    "history_dict = history.history\n",
    "history_dict.keys()"
   ]
  },
  {
   "cell_type": "code",
   "execution_count": 53,
   "id": "e525ec2d",
   "metadata": {},
   "outputs": [
    {
     "data": {
      "text/html": [
       "<div>\n",
       "<style scoped>\n",
       "    .dataframe tbody tr th:only-of-type {\n",
       "        vertical-align: middle;\n",
       "    }\n",
       "\n",
       "    .dataframe tbody tr th {\n",
       "        vertical-align: top;\n",
       "    }\n",
       "\n",
       "    .dataframe thead th {\n",
       "        text-align: right;\n",
       "    }\n",
       "</style>\n",
       "<table border=\"1\" class=\"dataframe\">\n",
       "  <thead>\n",
       "    <tr style=\"text-align: right;\">\n",
       "      <th></th>\n",
       "      <th>loss</th>\n",
       "      <th>accuracy</th>\n",
       "      <th>val_loss</th>\n",
       "      <th>val_accuracy</th>\n",
       "    </tr>\n",
       "  </thead>\n",
       "  <tbody>\n",
       "    <tr>\n",
       "      <th>1</th>\n",
       "      <td>0.692139</td>\n",
       "      <td>0.564378</td>\n",
       "      <td>0.665367</td>\n",
       "      <td>0.641026</td>\n",
       "    </tr>\n",
       "    <tr>\n",
       "      <th>2</th>\n",
       "      <td>0.638053</td>\n",
       "      <td>0.708154</td>\n",
       "      <td>0.632569</td>\n",
       "      <td>0.700855</td>\n",
       "    </tr>\n",
       "    <tr>\n",
       "      <th>3</th>\n",
       "      <td>0.598945</td>\n",
       "      <td>0.742489</td>\n",
       "      <td>0.605123</td>\n",
       "      <td>0.709402</td>\n",
       "    </tr>\n",
       "    <tr>\n",
       "      <th>4</th>\n",
       "      <td>0.564720</td>\n",
       "      <td>0.755365</td>\n",
       "      <td>0.580247</td>\n",
       "      <td>0.735043</td>\n",
       "    </tr>\n",
       "    <tr>\n",
       "      <th>5</th>\n",
       "      <td>0.532702</td>\n",
       "      <td>0.776824</td>\n",
       "      <td>0.558557</td>\n",
       "      <td>0.735043</td>\n",
       "    </tr>\n",
       "    <tr>\n",
       "      <th>...</th>\n",
       "      <td>...</td>\n",
       "      <td>...</td>\n",
       "      <td>...</td>\n",
       "      <td>...</td>\n",
       "    </tr>\n",
       "    <tr>\n",
       "      <th>396</th>\n",
       "      <td>0.037464</td>\n",
       "      <td>0.993562</td>\n",
       "      <td>1.022848</td>\n",
       "      <td>0.760684</td>\n",
       "    </tr>\n",
       "    <tr>\n",
       "      <th>397</th>\n",
       "      <td>0.037661</td>\n",
       "      <td>0.993562</td>\n",
       "      <td>1.049461</td>\n",
       "      <td>0.760684</td>\n",
       "    </tr>\n",
       "    <tr>\n",
       "      <th>398</th>\n",
       "      <td>0.037010</td>\n",
       "      <td>0.993562</td>\n",
       "      <td>1.042233</td>\n",
       "      <td>0.777778</td>\n",
       "    </tr>\n",
       "    <tr>\n",
       "      <th>399</th>\n",
       "      <td>0.036901</td>\n",
       "      <td>0.993562</td>\n",
       "      <td>1.054246</td>\n",
       "      <td>0.760684</td>\n",
       "    </tr>\n",
       "    <tr>\n",
       "      <th>400</th>\n",
       "      <td>0.036128</td>\n",
       "      <td>0.993562</td>\n",
       "      <td>1.035818</td>\n",
       "      <td>0.760684</td>\n",
       "    </tr>\n",
       "  </tbody>\n",
       "</table>\n",
       "<p>400 rows × 4 columns</p>\n",
       "</div>"
      ],
      "text/plain": [
       "         loss  accuracy  val_loss  val_accuracy\n",
       "1    0.692139  0.564378  0.665367      0.641026\n",
       "2    0.638053  0.708154  0.632569      0.700855\n",
       "3    0.598945  0.742489  0.605123      0.709402\n",
       "4    0.564720  0.755365  0.580247      0.735043\n",
       "5    0.532702  0.776824  0.558557      0.735043\n",
       "..        ...       ...       ...           ...\n",
       "396  0.037464  0.993562  1.022848      0.760684\n",
       "397  0.037661  0.993562  1.049461      0.760684\n",
       "398  0.037010  0.993562  1.042233      0.777778\n",
       "399  0.036901  0.993562  1.054246      0.760684\n",
       "400  0.036128  0.993562  1.035818      0.760684\n",
       "\n",
       "[400 rows x 4 columns]"
      ]
     },
     "execution_count": 53,
     "metadata": {},
     "output_type": "execute_result"
    }
   ],
   "source": [
    "df9 = pd.DataFrame(history_dict)\n",
    "df9.index = range(1,401)\n",
    "df9"
   ]
  },
  {
   "cell_type": "code",
   "execution_count": 54,
   "id": "a530d6e9",
   "metadata": {},
   "outputs": [
    {
     "data": {
      "text/html": [
       "<div>\n",
       "<style scoped>\n",
       "    .dataframe tbody tr th:only-of-type {\n",
       "        vertical-align: middle;\n",
       "    }\n",
       "\n",
       "    .dataframe tbody tr th {\n",
       "        vertical-align: top;\n",
       "    }\n",
       "\n",
       "    .dataframe thead th {\n",
       "        text-align: right;\n",
       "    }\n",
       "</style>\n",
       "<table border=\"1\" class=\"dataframe\">\n",
       "  <thead>\n",
       "    <tr style=\"text-align: right;\">\n",
       "      <th></th>\n",
       "      <th>loss</th>\n",
       "      <th>accuracy</th>\n",
       "      <th>val_loss</th>\n",
       "      <th>val_accuracy</th>\n",
       "    </tr>\n",
       "  </thead>\n",
       "  <tbody>\n",
       "    <tr>\n",
       "      <th>67</th>\n",
       "      <td>0.276536</td>\n",
       "      <td>0.890558</td>\n",
       "      <td>0.455031</td>\n",
       "      <td>0.820513</td>\n",
       "    </tr>\n",
       "  </tbody>\n",
       "</table>\n",
       "</div>"
      ],
      "text/plain": [
       "        loss  accuracy  val_loss  val_accuracy\n",
       "67  0.276536  0.890558  0.455031      0.820513"
      ]
     },
     "execution_count": 54,
     "metadata": {},
     "output_type": "execute_result"
    }
   ],
   "source": [
    "df9[df9.val_loss==df9.val_loss.min()]"
   ]
  },
  {
   "cell_type": "code",
   "execution_count": 55,
   "id": "b924b626",
   "metadata": {},
   "outputs": [],
   "source": [
    "loss_values = history_dict['loss']\n",
    "val_loss_values = history_dict['val_loss']\n",
    "epochs = range(1,401)"
   ]
  },
  {
   "cell_type": "code",
   "execution_count": 56,
   "id": "1d435af6",
   "metadata": {},
   "outputs": [
    {
     "data": {
      "image/png": "[encoded data removed]",
      "text/plain": [
       "<Figure size 1000x500 with 1 Axes>"
      ]
     },
     "metadata": {},
     "output_type": "display_data"
    }
   ],
   "source": [
    "plt.figure(figsize=(10,5))\n",
    "plt.plot(epochs,loss_values,'r',\n",
    "         label='Training Loss')\n",
    "plt.plot(epochs,val_loss_values,'b',\n",
    "         label='Validation Loss')\n",
    "#plt.xticks(epochs)\n",
    "plt.xlabel('Epochs')\n",
    "plt.ylabel('Loss')\n",
    "plt.legend()\n",
    "plt.grid()"
   ]
  },
  {
   "cell_type": "markdown",
   "id": "df372987",
   "metadata": {},
   "source": [
    "### Retrain the model using best number of epochs"
   ]
  },
  {
   "cell_type": "code",
   "execution_count": 57,
   "id": "30055553",
   "metadata": {},
   "outputs": [],
   "source": [
    "network1 = keras.Sequential([ \n",
    "    layers.Dense(32,activation='relu'),\n",
    "    layers.Dense(16,activation='relu'),\n",
    "    layers.Dense(1,activation='sigmoid')])\n",
    "\n",
    "network1.compile(optimizer='rmsprop', loss='binary_crossentropy',\n",
    "metrics=['accuracy'])\n",
    "\n",
    "n_epochs = 67\n",
    "history = network1.fit(X_train_scaled, y_train,\n",
    "                       epochs=n_epochs, batch_size = 48, verbose = 0)"
   ]
  },
  {
   "cell_type": "code",
   "execution_count": 58,
   "id": "3a49d266",
   "metadata": {},
   "outputs": [
    {
     "name": "stdout",
     "output_type": "stream",
     "text": [
      "6/6 [==============================] - 0s 669us/step - loss: 0.3845 - accuracy: 0.8595\n"
     ]
    }
   ],
   "source": [
    "test_loss,test_acc = network1.evaluate(X_test_scaled,y_test)"
   ]
  },
  {
   "cell_type": "code",
   "execution_count": 59,
   "id": "419be110",
   "metadata": {},
   "outputs": [
    {
     "data": {
      "text/plain": [
       "0.3844742774963379"
      ]
     },
     "execution_count": 59,
     "metadata": {},
     "output_type": "execute_result"
    }
   ],
   "source": [
    "test_loss"
   ]
  },
  {
   "cell_type": "code",
   "execution_count": 60,
   "id": "c577ce82",
   "metadata": {},
   "outputs": [
    {
     "data": {
      "text/plain": [
       "0.8594594597816467"
      ]
     },
     "execution_count": 60,
     "metadata": {},
     "output_type": "execute_result"
    }
   ],
   "source": [
    "test_acc"
   ]
  }
 ],
 "metadata": {
  "kernelspec": {
   "display_name": "Python 3 (ipykernel)",
   "language": "python",
   "name": "python3"
  },
  "language_info": {
   "codemirror_mode": {
    "name": "ipython",
    "version": 3
   },
   "file_extension": ".py",
   "mimetype": "text/x-python",
   "name": "python",
   "nbconvert_exporter": "python",
   "pygments_lexer": "ipython3",
   "version": "3.11.5"
  }
 },
 "nbformat": 4,
 "nbformat_minor": 5
}
